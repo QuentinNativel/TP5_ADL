{
 "cells": [
  {
   "cell_type": "code",
   "execution_count": 1,
   "metadata": {},
   "outputs": [],
   "source": [
    "import torch \n",
    "import pickle as pkl\n",
    "import torch.nn as nn"
   ]
  },
  {
   "cell_type": "code",
   "execution_count": 2,
   "metadata": {},
   "outputs": [],
   "source": [
    "with open('traj.pkl', 'rb') as fp:\n",
    "    traj = pkl.load(fp)"
   ]
  },
  {
   "cell_type": "code",
   "execution_count": 3,
   "metadata": {},
   "outputs": [
    {
     "data": {
      "text/plain": [
       "torch.Size([100000, 3])"
      ]
     },
     "execution_count": 3,
     "metadata": {},
     "output_type": "execute_result"
    }
   ],
   "source": [
    "traj = torch.Tensor(traj)\n",
    "traj.shape"
   ]
  },
  {
   "cell_type": "code",
   "execution_count": 4,
   "metadata": {},
   "outputs": [],
   "source": [
    "\n",
    "class Model(nn.Module):\n",
    "    \n",
    "    def __init__(self):\n",
    "        super(Model,self).__init__()\n",
    "        \n",
    "        self.l1 = nn.Linear(3,10)\n",
    "        self.relu = nn.ReLU()\n",
    "        self.l2 = nn.Linear(10,3)\n",
    "    \n",
    "    def forward(self, inputs):\n",
    "        o1 = self.relu(self.l1(inputs))\n",
    "        return self.l2(o1)\n",
    "\n"
   ]
  },
  {
   "cell_type": "code",
   "execution_count": 12,
   "metadata": {},
   "outputs": [],
   "source": [
    "from torch.utils.data import DataLoader, random_split, TensorDataset\n",
    "\n",
    "model = Model()\n",
    "\n",
    "# Choose the hyperparameters for training: \n",
    "num_epochs = 40\n",
    "batch_size = 10\n",
    "\n",
    "# Use mean squared loss function \n",
    "criterion = nn.MSELoss()\n",
    "\n",
    "# Use SGD optimizer with a learning rate of 0.01\n",
    "# It is initialized on our model\n",
    "optimizer = torch.optim.Adam(model.parameters(), lr=0.0001)"
   ]
  },
  {
   "cell_type": "code",
   "execution_count": 13,
   "metadata": {},
   "outputs": [],
   "source": [
    "def train(num_epochs, batch_size, criterion, optimizer, model, dataset):\n",
    "    train_error = []\n",
    "    train_loader = DataLoader(dataset, batch_size, shuffle=True)\n",
    "    model.train()\n",
    "    for epoch in range(num_epochs):\n",
    "        epoch_average_loss = 0.0\n",
    "        for (words, labels) in train_loader:\n",
    "            y_pred = model(words)\n",
    "            loss = criterion(y_pred, labels)\n",
    "            optimizer.zero_grad()\n",
    "            loss.backward()\n",
    "            optimizer.step()\n",
    "            epoch_average_loss += loss.item() * batch_size / len(dataset)\n",
    "        train_error.append(epoch_average_loss)\n",
    "        print('Epoch [{}/{}], Loss: {:.4f}'\n",
    "              .format(epoch+1, num_epochs, epoch_average_loss))\n",
    "    return  train_error"
   ]
  },
  {
   "cell_type": "code",
   "execution_count": 14,
   "metadata": {},
   "outputs": [],
   "source": [
    "X = traj[:-1]\n",
    "y = traj[1:]\n",
    "dataset = TensorDataset(X,y)"
   ]
  },
  {
   "cell_type": "code",
   "execution_count": 15,
   "metadata": {},
   "outputs": [
    {
     "name": "stdout",
     "output_type": "stream",
     "text": [
      "Epoch [1/40], Loss: 5.1160\n",
      "Epoch [2/40], Loss: 0.0369\n",
      "Epoch [3/40], Loss: 0.0073\n",
      "Epoch [4/40], Loss: 0.0018\n",
      "Epoch [5/40], Loss: 0.0011\n",
      "Epoch [6/40], Loss: 0.0009\n",
      "Epoch [7/40], Loss: 0.0008\n",
      "Epoch [8/40], Loss: 0.0007\n",
      "Epoch [9/40], Loss: 0.0006\n",
      "Epoch [10/40], Loss: 0.0006\n",
      "Epoch [11/40], Loss: 0.0005\n",
      "Epoch [12/40], Loss: 0.0004\n",
      "Epoch [13/40], Loss: 0.0003\n",
      "Epoch [14/40], Loss: 0.0002\n",
      "Epoch [15/40], Loss: 0.0002\n",
      "Epoch [16/40], Loss: 0.0002\n",
      "Epoch [17/40], Loss: 0.0002\n",
      "Epoch [18/40], Loss: 0.0002\n",
      "Epoch [19/40], Loss: 0.0002\n",
      "Epoch [20/40], Loss: 0.0002\n",
      "Epoch [21/40], Loss: 0.0002\n",
      "Epoch [22/40], Loss: 0.0002\n",
      "Epoch [23/40], Loss: 0.0002\n",
      "Epoch [24/40], Loss: 0.0002\n",
      "Epoch [25/40], Loss: 0.0002\n",
      "Epoch [26/40], Loss: 0.0002\n",
      "Epoch [27/40], Loss: 0.0002\n",
      "Epoch [28/40], Loss: 0.0002\n",
      "Epoch [29/40], Loss: 0.0002\n",
      "Epoch [30/40], Loss: 0.0002\n",
      "Epoch [31/40], Loss: 0.0002\n",
      "Epoch [32/40], Loss: 0.0002\n",
      "Epoch [33/40], Loss: 0.0002\n",
      "Epoch [34/40], Loss: 0.0002\n",
      "Epoch [35/40], Loss: 0.0002\n",
      "Epoch [36/40], Loss: 0.0002\n",
      "Epoch [37/40], Loss: 0.0002\n",
      "Epoch [38/40], Loss: 0.0002\n",
      "Epoch [39/40], Loss: 0.0002\n",
      "Epoch [40/40], Loss: 0.0002\n"
     ]
    }
   ],
   "source": [
    "train_error = train(num_epochs,batch_size, criterion, optimizer, model, dataset)"
   ]
  },
  {
   "cell_type": "code",
   "execution_count": 26,
   "metadata": {},
   "outputs": [],
   "source": [
    "with open('model.pkl', 'wb') as fp:\n",
    "    pkl.dump(model., fp)"
   ]
  },
  {
   "cell_type": "code",
   "execution_count": 16,
   "metadata": {},
   "outputs": [],
   "source": [
    "torch.save(model.state_dict(), 'model.pt')"
   ]
  },
  {
   "cell_type": "code",
   "execution_count": null,
   "metadata": {},
   "outputs": [],
   "source": []
  }
 ],
 "metadata": {
  "kernelspec": {
   "display_name": "Python 3.8.1 64-bit",
   "language": "python",
   "name": "python38164bitc341161d4bd140bea8afc45b179bf3ed"
  },
  "language_info": {
   "codemirror_mode": {
    "name": "ipython",
    "version": 3
   },
   "file_extension": ".py",
   "mimetype": "text/x-python",
   "name": "python",
   "nbconvert_exporter": "python",
   "pygments_lexer": "ipython3",
   "version": "3.8.1"
  }
 },
 "nbformat": 4,
 "nbformat_minor": 4
}
